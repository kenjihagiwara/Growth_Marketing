{
 "cells": [
  {
   "cell_type": "code",
   "execution_count": null,
   "metadata": {},
   "outputs": [],
   "source": [
    "import airpy as ap\n",
    "import numpy as np\n",
    "import pandas as pd\n",
    "import seaborn as sns\n",
    "import matplotlib.pyplot as plt\n",
    "import seaborn as sns\n",
    "sns.set()\n",
    "\n",
    "bookings = pd.DataFrame(pd.read_csv('/Users/kenji_hagiwara/Downloads/bookings.csv', index_col='calendar_date', parse_dates=True, infer_datetime_format=True,)).loc['2018-08-01':'2018-08-31']#.reset_index()\n",
    "costs = pd.DataFrame(pd.read_csv('/Users/kenji_hagiwara/Downloads/costs.csv', index_col='calendar_date', parse_dates=True, infer_datetime_format=True,)).loc['2018-08-01':'2018-08-31']#.reset_index()\n",
    "revenue = pd.DataFrame(pd.read_csv('/Users/kenji_hagiwara/Downloads/revenue.csv', index_col='calendar_date', parse_dates=True, infer_datetime_format=True,)).loc['2018-08-01':'2018-08-31']#.reset_index()\n",
    "\n",
    "\n",
    "result = pd.merge(costs, bookings, on=['tracking_key','calendar_date'])\n",
    "result = pd.merge(result, revenue, on=['tracking_key','calendar_date'])\n",
    "\n",
    "#Regressions\n",
    "result.plot(x='bookings', y='cost', kind='scatter', alpha=0.1)\n",
    "plt.show()\n",
    "\n",
    "result.plot(x='clicks', y='revenue', kind='scatter', alpha=0.1)\n",
    "plt.show()\n",
    "\n",
    "result.plot(x='bookings', y='clicks', kind='scatter', alpha=0.1)\n",
    "plt.show()\n",
    "\n",
    "result.plot(x='revenue', y='clicks', kind='scatter', alpha=0.1)\n",
    "plt.show()"
   ]
  },
  {
   "cell_type": "code",
   "execution_count": null,
   "metadata": {},
   "outputs": [],
   "source": [
    "#slice by campaign strategy\n",
    "sns.lmplot(x=\"bookings\", y=\"cost\", col=\"campaign_strategy\", hue=\"campaign_strategy\", data=result, col_wrap=2)\n",
    "plt.show()\n",
    "\n",
    "\n"
   ]
  },
  {
   "cell_type": "code",
   "execution_count": null,
   "metadata": {},
   "outputs": [],
   "source": [
    "#slice by platform & campaign strategy\n",
    "sns.lmplot(x=\"bookings\", y=\"cost\", col=\"campaign_strategy\", hue=\"platform\", \n",
    "          data=result, col_wrap=2,\n",
    "          line_kws={\"alpha\":0.1},\n",
    "          scatter_kws={\"alpha\": 0.1})\n",
    "\n",
    "plt.show()\n",
    "\n"
   ]
  },
  {
   "cell_type": "code",
   "execution_count": null,
   "metadata": {},
   "outputs": [],
   "source": [
    "# get all columns from dataframe that are measure columns\n",
    "#num_cols = result.select_dtypes('float64').columns.values\n",
    "\n",
    "# get all columns from dataframe that are dimensional columns \n",
    "#non_num_cols = result.select_dtypes('object').columns.values[1:]\n",
    "\n",
    "# manually define slices that we care about\n",
    "num_cols = ['cost','clicks','revenue']\n",
    "non_num_cols = ['platform', 'campaign_strategy', 'channel', 'dim_origin_region']\n",
    "\n",
    "\n",
    "for x in num_cols: #dynamically slices x and y axis by each measure (iterates through every combination)\n",
    "   for y in num_cols: \n",
    "       for col in non_num_cols: \n",
    "           #for hue in non_num_cols:   #dynamically slices with each dimension\n",
    "               print (x,y,col,hue) #prints title of graph set\n",
    "               if (x != y) & (col != hue): #prevents redundant slice combinations like impressions vs impressions. #\n",
    "                   sns.lmplot(x=x, y=y, col=col, hue=hue, \n",
    "                              data=result, col_wrap=3,\n",
    "                              line_kws={\"alpha\":0.1},\n",
    "                              scatter_kws={\"alpha\": 0.1})\n",
    "                   plt.show()\n"
   ]
  },
  {
   "cell_type": "code",
   "execution_count": null,
   "metadata": {},
   "outputs": [],
   "source": [
    "result_log = result.copy()\n",
    "result_log[num_cols] = np.log(result_log[num_cols]) #applying np.log to numerical columns in result_log (this scales everything down, so we can see the relationships more clearly)\n",
    "\n",
    "for x in num_cols:\n",
    "   for y in num_cols:\n",
    "       for col in non_num_cols:\n",
    "           for hue in non_num_cols:\n",
    "               print (x,y,col,hue)\n",
    "               # dont do redundant x vs x plots or col=hue plots\n",
    "               if (x != y) & (col != hue):\n",
    "                   sns.lmplot(x=x, y=y, col=col, hue=hue, \n",
    "                              data=result_log, col_wrap=2,\n",
    "                              line_kws={\"alpha\":0.5},\n",
    "                              scatter_kws={\"alpha\": 0.9, 's': 10})\n",
    "                   plt.show()\n",
    "                    \n",
    "                    #Look into these further: \n",
    "                    #seeing clustering in low intent cost/clicks in social\n",
    "                    #clustering in app brand, app installs, cost/clicks. \n",
    "                    \n",
    "                    #corelation between Google and Revenue\n",
    "                    #Correlation between origon_region Australia and revenue \n"
   ]
  },
  {
   "cell_type": "code",
   "execution_count": null,
   "metadata": {},
   "outputs": [],
   "source": [
    "australia_google = result[(result['dim_origin_region'] == 'Australia') & (result['platform'] == 'google')]\n",
    "\n",
    "\n",
    "\n",
    "num_cols = ['clicks','revenue']\n",
    "non_num_cols = ['campaign_strategy', 'channel']\n",
    "\n",
    "\n",
    "for x in num_cols: #dynamically slices x and y axis by each measure (iterates through every combination)\n",
    "   for y in num_cols: \n",
    "       for col in non_num_cols: \n",
    "               if (x != y) : #prevents redundant slice combinations like impressions vs impressions. #\n",
    "                   sns.lmplot(x=x, y=y, col=col,  \n",
    "                              data=australia_google, col_wrap=2,\n",
    "                              line_kws={\"alpha\":0.1},\n",
    "                              scatter_kws={\"alpha\": 0.1})\n",
    "                   plt.show()"
   ]
  },
  {
   "cell_type": "code",
   "execution_count": null,
   "metadata": {},
   "outputs": [],
   "source": [
    "australia_google_SEMNB = result[(result['dim_origin_region'] == 'Australia') & (result['platform'] == 'google') & (result['channel'] == 'SEM Non-brand')]\n",
    "\n",
    "sns.lmplot(x='clicks', y='revenue',\n",
    "        data=australia_google_SEMNB,\n",
    "        line_kws={\"alpha\":0.5},\n",
    "        scatter_kws={\"alpha\": 0.5, 's': 10})\n",
    "plt.title('Origin Country Australia, SEM Non-Brand for Google')\n",
    "plt.show()\n"
   ]
  },
  {
   "cell_type": "code",
   "execution_count": null,
   "metadata": {},
   "outputs": [],
   "source": [
    "\n",
    "aust = result[result['dim_origin_region'] == 'Australia']\n",
    "aust_google = result[(result['dim_origin_region'] == 'Australia') & (result['platform'] == 'google')]\n",
    "aust_google_sem = result[(result['dim_origin_region'] == 'Australia') & (result['platform'] == 'google') & (result['channel'] == 'SEM Non-brand')]\n",
    "\n",
    "def print_costs(df, df_name):\n",
    "   \n",
    "   # for the df, find the revenue/cost/clicks sum and print \"df_name rev/cost/clicks: value\" with 2 decimal places\n",
    "   print ('{} revenue: {:.2f} '.format(df_name, df.revenue.sum()))\n",
    "   print ('{} cost: {:.2f} '.format(df_name, df.cost.sum()))\n",
    "   print ('{} clicks: {:.2f} '.format(df_name, df.clicks.sum()))\n",
    "   print ('\\n')\n",
    "   \n",
    "   # for result, find the revenue/cost/clicks sum and print \"total rev/cost/clicks: value\" with 2 decimal places\n",
    "   print ('total revenue: {:.2f}'.format(result.revenue.sum()))\n",
    "   print ('total cost: {:.2f}'.format(result.cost.sum()))\n",
    "   print ('total clicks: {:.2f}'.format(result.clicks.sum()))\n",
    "   print ('\\n')\n",
    "   \n",
    "   # for the df/result, find the revenue/cost/clicks sum and print \"df_name / total rev/cost/clicks: value\" with 2 decimal places\n",
    "   print ('{} / total revenume: {:.5f}'.format(df_name, df.revenue.sum() / result.revenue.sum()))\n",
    "   print ('{} / total cost: {:.5f}'.format(df_name, df.cost.sum() / result.cost.sum()))\n",
    "   print ('{} / total clicks: {:.5f}'.format(df_name, df.clicks.sum() / result.clicks.sum()))\n",
    "   print ('--'*20)\n",
    "   print ('\\n')\n",
    "   \n",
    "print_costs(aust, 'australia')\n",
    "print_costs(aust_google, 'australia_google')\n",
    "print_costs(aust_google_sem, 'australia_google_sem')"
   ]
  },
  {
   "cell_type": "code",
   "execution_count": null,
   "metadata": {},
   "outputs": [],
   "source": []
  }
 ],
 "metadata": {
  "kernelspec": {
   "display_name": "Python 3",
   "language": "python",
   "name": "python3"
  },
  "language_info": {
   "codemirror_mode": {
    "name": "ipython",
    "version": 3
   },
   "file_extension": ".py",
   "mimetype": "text/x-python",
   "name": "python",
   "nbconvert_exporter": "python",
   "pygments_lexer": "ipython3",
   "version": "3.6.3"
  }
 },
 "nbformat": 4,
 "nbformat_minor": 2
}
